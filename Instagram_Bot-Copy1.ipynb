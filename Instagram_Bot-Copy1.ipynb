{
 "cells": [
  {
   "cell_type": "code",
   "execution_count": 16,
   "metadata": {},
   "outputs": [],
   "source": [
    "from selenium import webdriver\n",
    "from selenium.webdriver.common.keys import Keys\n",
    "from time import sleep, strftime\n",
    "from random import randint\n",
    "import pandas as pd"
   ]
  },
  {
   "cell_type": "code",
   "execution_count": 17,
   "metadata": {},
   "outputs": [],
   "source": [
    "chromedriver_path = '/Users/thomaslemenestrel/Downloads/chromedriver' # Change this to your own chromedriver path!\n",
    "webdriver = webdriver.Chrome(executable_path=chromedriver_path)\n",
    "sleep(2)\n",
    "webdriver.get('https://www.instagram.com/accounts/login/?source=auth_switcher')\n",
    "sleep(3)"
   ]
  },
  {
   "cell_type": "code",
   "execution_count": 18,
   "metadata": {},
   "outputs": [],
   "source": [
    "username = webdriver.find_element_by_name('username')\n",
    "username.send_keys('frenchmic____')\n",
    "password = webdriver.find_element_by_name('password')\n",
    "password.send_keys('Carrera-1+/.?')"
   ]
  },
  {
   "cell_type": "code",
   "execution_count": 19,
   "metadata": {},
   "outputs": [],
   "source": [
    "button_login = webdriver.find_element_by_css_selector('#react-root > section > main > div > article > div > div:nth-child(1) > div > form > div.Igw0E.IwRSH.eGOV_._4EzTm.bkEs3.CovQj.jKUp7.DhRcB > button')\n",
    "button_login.click()\n",
    "sleep(30)"
   ]
  },
  {
   "cell_type": "code",
   "execution_count": 20,
   "metadata": {
    "scrolled": true
   },
   "outputs": [],
   "source": [
    "notnow = webdriver.find_element_by_css_selector('body > div.RnEpo.Yx5HN > div > div > div.mt3GC > button.aOOlW.bIiDR')\n",
    "notnow.click() #comment these last 2 lines out, if you don't get a pop up asking about notifications"
   ]
  },
  {
   "cell_type": "code",
   "execution_count": 21,
   "metadata": {},
   "outputs": [],
   "source": [
    "hashtag_list = ['rap', 'frenchrap']\n",
    "\n",
    "prev_user_list = [] #- if it's the first time you run it, use this line and comment the two below\n",
    "#prev_user_list = pd.read_csv('20190729-143242_users_followed_list.csv', delimiter=',').iloc[:,1:2] # useful to build a user log\n",
    "#prev_user_list = list(prev_user_list['0'])\n",
    "\n",
    "new_followed = []\n",
    "tag = -1\n",
    "followed = 0\n",
    "likes = 0\n",
    "comments = 0"
   ]
  },
  {
   "cell_type": "code",
   "execution_count": 22,
   "metadata": {},
   "outputs": [],
   "source": [
    "webdriver.get('https://www.instagram.com/boobaofficial/')\n",
    "sleep(5)\n",
    "followers_list = webdriver.find_element_by_xpath('//*[@id=\"react-root\"]/section/main/div/header/section/ul/li[2]/a').click()\n"
   ]
  },
  {
   "cell_type": "code",
   "execution_count": 23,
   "metadata": {},
   "outputs": [
    {
     "ename": "SyntaxError",
     "evalue": "unexpected EOF while parsing (<ipython-input-23-7c393ccfa63b>, line 4)",
     "output_type": "error",
     "traceback": [
      "\u001b[0;36m  File \u001b[0;32m\"<ipython-input-23-7c393ccfa63b>\"\u001b[0;36m, line \u001b[0;32m4\u001b[0m\n\u001b[0;31m    webdriver.switch_to.frame(webdriver.find_element_by__name('Follow').click()\u001b[0m\n\u001b[0m                                                                               ^\u001b[0m\n\u001b[0;31mSyntaxError\u001b[0m\u001b[0;31m:\u001b[0m unexpected EOF while parsing\n"
     ]
    }
   ],
   "source": [
    "sleep(5)\n",
    "followers_follow  = webdriver.find_elements_by_name('Follow')\n",
    "for x in range(0,10):\n",
    "    webdriver.switch_to.frame(webdriver.find_element_by__name('Follow').click()"
   ]
  },
  {
   "cell_type": "code",
   "execution_count": null,
   "metadata": {},
   "outputs": [],
   "source": [
    "#for x in followers_follow:\n",
    " #   followers_follow[i].click()\n",
    "  #  sleep(2)\n",
    "#print(followers_follow)\n",
    "sleep(randint(1,2))  "
   ]
  },
  {
   "cell_type": "code",
   "execution_count": null,
   "metadata": {},
   "outputs": [],
   "source": [
    "\"\"\"\"\n",
    "updated_user_df = pd.DataFrame(prev_user_list)\n",
    "updated_user_df.to_csv('{}_users_followed_list.csv'.format(strftime(\"%Y%m%d-%H%M%S\")))\n",
    "print('Liked {} photos.'.format(likes))\n",
    "print('Commented {} photos.'.format(comments))"
   ]
  }
 ],
 "metadata": {
  "kernelspec": {
   "display_name": "Python 3",
   "language": "python",
   "name": "python3"
  },
  "language_info": {
   "codemirror_mode": {
    "name": "ipython",
    "version": 3
   },
   "file_extension": ".py",
   "mimetype": "text/x-python",
   "name": "python",
   "nbconvert_exporter": "python",
   "pygments_lexer": "ipython3",
   "version": "3.7.1"
  }
 },
 "nbformat": 4,
 "nbformat_minor": 2
}
